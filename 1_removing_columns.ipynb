{
 "cells": [
  {
   "cell_type": "code",
   "execution_count": null,
   "metadata": {},
   "outputs": [],
   "source": [
    "import pandas as pd\n",
    "import numpy as np\n",
    "import warnings\n",
    "import seaborn as sns\n",
    "warnings.filterwarnings('ignore')"
   ]
  },
  {
   "cell_type": "code",
   "execution_count": null,
   "metadata": {},
   "outputs": [],
   "source": [
    "### Load data\n",
    "df_train = pd.read_csv(\"./data/Train.csv\")"
   ]
  },
  {
   "cell_type": "code",
   "execution_count": null,
   "metadata": {},
   "outputs": [],
   "source": [
    "df_train.columns"
   ]
  },
  {
   "attachments": {},
   "cell_type": "markdown",
   "metadata": {},
   "source": [
    "### Target particle concentration\n",
    "- df_train.target\n",
    "- Single particles > 2.5 micro-meters\n",
    "\n",
    "\n"
   ]
  },
  {
   "cell_type": "code",
   "execution_count": null,
   "metadata": {},
   "outputs": [],
   "source": [
    "df_train.target"
   ]
  },
  {
   "cell_type": "code",
   "execution_count": null,
   "metadata": {},
   "outputs": [],
   "source": [
    "### Which pollutors are beeing described. They all seem to start with L3_\n",
    "L3_list = []\n",
    "for col in df_train.columns:\n",
    "    if \"L3_\" in col:\n",
    "        L3_list.append(col)\n",
    "\n",
    "print (L3_list)"
   ]
  },
  {
   "cell_type": "code",
   "execution_count": null,
   "metadata": {},
   "outputs": [],
   "source": [
    "measure_objects = []\n",
    "for col in L3_list:\n",
    "    cl = col.split(\"_\")\n",
    "    measure_objects.append(cl[1])\n",
    "\n",
    "set(measure_objects)"
   ]
  },
  {
   "attachments": {},
   "cell_type": "markdown",
   "metadata": {},
   "source": [
    "- AER, CLOUD, CH4- Gunnar\n",
    "- CO, HCO, NO2 - Clara\n",
    "- O3, SO2 - Isabelle"
   ]
  },
  {
   "cell_type": "code",
   "execution_count": null,
   "metadata": {},
   "outputs": [],
   "source": [
    "def get_measure_object_cols(object, df):\n",
    "    obj_list = [col for col in df.columns if object in col]\n",
    "    return obj_list"
   ]
  },
  {
   "cell_type": "code",
   "execution_count": null,
   "metadata": {},
   "outputs": [],
   "source": [
    "get_measure_object_cols(\"AER\", df_train)"
   ]
  },
  {
   "attachments": {},
   "cell_type": "markdown",
   "metadata": {},
   "source": [
    "### AER - Aerosols\n",
    "\n",
    "https://developers.google.com/earth-engine/datasets/catalog/COPERNICUS_S5P_OFFL_L3_AER_AI\n",
    "\n",
    "|   Column\t|   Meaning\t|    Keep?   |   \n",
    "|---\t|---\t|---    |\n",
    "|   'L3_AER_AI_absorbing_aerosol_index'\t|   Index of Aerosol prevalence - Unit-less\t|    Keep   |\n",
    "|   'L3_AER_AI_sensor_altitude'\t|    Satellite Altitude in meters\t|    Remove   |\n",
    "|   'L3_AER_AI_sensor_azimuth_angle'\t|   Satellite Angles    | Remove    |\n",
    "|   'L3_AER_AI_sensor_zenith_angle'\t|   Satellite Angles    | Remove    |\n",
    "|   'L3_AER_AI_solar_azimuth_angle'|   Satellite Angles    | Remove    |\n",
    "|   'L3_AER_AI_solar_zenith_angle'|   Satellite Angles    | Remove    |\n"
   ]
  },
  {
   "cell_type": "code",
   "execution_count": null,
   "metadata": {},
   "outputs": [],
   "source": [
    "get_measure_object_cols(\"CLOUD\", df_train)"
   ]
  },
  {
   "attachments": {},
   "cell_type": "markdown",
   "metadata": {},
   "source": [
    "|   Column\t|   Meaning\t|   Keep\t|\n",
    "|---\t|---\t|---\t|\n",
    "|  'L3_CLOUD_cloud_base_height', \t|   m above SL - Altitude of lowest point of the cloud - m above Sea Level\t|   Keep\t|\n",
    "|   L3_CLOUD_cloud_base_pressure\t|   Pa - Pressure Level - Altitude of lowest point of the cloud\t|   Keep\t|\n",
    "|   L3_CLOUD_cloud_fraction\t|   Ratio 0 - 1 - portion of earths surface covered by clouds\t|   Keep\t|\n",
    "|   L3_CLOUD_cloud_optical_depth\t|   m - Height from base to top\t|   Keep\t|\n",
    "|   L3_CLOUD_cloud_top_height\t|   m above Sea level - Height of cloud above Sea level\t|   Keep\t|\n",
    "|   L3_CLOUD_cloud_top_pressure\t|   Pa - Pressure Level - Altitude of highest point of the cloud\t|   Keep\t|\n",
    "|   L3_CLOUD_sensor_azimuth_angle', 'L3_CLOUD_sensor_zenith_angle', 'L3_CLOUD_solar_azimuth_angle', 'L3_CLOUD_solar_zenith_angle',\t|   Satellite Angles\t|  Remove\t|\n",
    "|   L3_CLOUD_surface_albedo\t|   Ratio - Ratio of reflected Sunlight\t|   Remove\t|\n"
   ]
  },
  {
   "cell_type": "code",
   "execution_count": null,
   "metadata": {},
   "outputs": [],
   "source": [
    "get_measure_object_cols(\"CH4\", df_train)"
   ]
  },
  {
   "attachments": {},
   "cell_type": "markdown",
   "metadata": {},
   "source": [
    "### CH4\n",
    "\n",
    "https://developers.google.com/earth-engine/datasets/catalog/COPERNICUS_S5P_OFFL_L3_CH4\n",
    "\n",
    "|   Column\t|   Meaning\t|   Keep\t|\n",
    "|---\t|---\t|---\t|\n",
    "|  'L3_CH4_CH4_column_volume_mixing_ratio_dry_air' \t|   parts per Billion - mol/mol - Concentration in an Air column\t|   Keep\t|\n",
    "|   L3_CH4_aerosol_height\t|   m - In Which Height was CH4 Aerosol measured?\t|   Keep\t|\n",
    "|   L3_CH4_aerosol_optical_depth\t|   Unitless - aerosol optical thickness in the SWIR band - Similar to concentration?\t|   Keep\t|\n",
    "|   'L3_CH4_sensor_azimuth_angle',\n",
    " 'L3_CH4_sensor_zenith_angle',\n",
    " 'L3_CH4_solar_azimuth_angle',\n",
    " 'L3_CH4_solar_zenith_angle'\t|   Satellite Angles\t|  Remove\t|\n"
   ]
  },
  {
   "cell_type": "markdown",
   "metadata": {},
   "source": []
  },
  {
   "cell_type": "code",
   "execution_count": null,
   "metadata": {},
   "outputs": [],
   "source": [
    "### List to remove Satellite angle Columns\n",
    "sat_angle_cols = get_measure_object_cols(\"_angle\", df_train)\n",
    "len (sat_angle_cols)"
   ]
  },
  {
   "cell_type": "code",
   "execution_count": null,
   "metadata": {},
   "outputs": [],
   "source": [
    "get_measure_object_cols(\"SO2\", df_train)"
   ]
  },
  {
   "cell_type": "code",
   "execution_count": null,
   "metadata": {},
   "outputs": [],
   "source": [
    "df_train.columns[0:13]"
   ]
  },
  {
   "cell_type": "code",
   "execution_count": null,
   "metadata": {},
   "outputs": [],
   "source": [
    "### List of weather and satellite measurement_columns to keep\n",
    "meas_cols = list(df_train.columns[0:13]) + ['L3_AER_AI_absorbing_aerosol_index', # AER\n",
    "                # CLOUD\n",
    "                'L3_CLOUD_cloud_base_height',\n",
    "                'L3_CLOUD_cloud_base_pressure',\n",
    "                'L3_CLOUD_cloud_fraction',\n",
    "                'L3_CLOUD_cloud_optical_depth',\n",
    "                'L3_CLOUD_cloud_top_height',\n",
    "                'L3_CLOUD_cloud_top_pressure',\n",
    "                ## CH4\n",
    "                'L3_CH4_CH4_column_volume_mixing_ratio_dry_air',\n",
    "                'L3_CH4_aerosol_height',\n",
    "                'L3_CH4_aerosol_optical_depth',\n",
    "                ## NO2\n",
    "                'L3_NO2_NO2_column_number_density',\n",
    "                'L3_NO2_absorbing_aerosol_index',\n",
    "                'L3_NO2_cloud_fraction',\n",
    "                'L3_NO2_tropospheric_NO2_column_number_density',\n",
    "                'L3_NO2_tropopause_pressure',\n",
    "                ## CO\n",
    "                'L3_CO_CO_column_number_density',\n",
    "                'L3_CO_H2O_column_number_density',\n",
    "                'L3_CO_cloud_height',\n",
    "                ## HCHO\n",
    "                'L3_HCHO_tropospheric_HCHO_column_number_density',\n",
    "                'L3_HCHO_cloud_fraction',\n",
    "                ## O3\n",
    "                'L3_O3_O3_column_number_density',\n",
    "                'L3_O3_O3_effective_temperature',\n",
    "                ## SO2\n",
    "                'L3_SO2_SO2_column_number_density',\n",
    "                'L3_SO2_absorbing_aerosol_index',\n",
    "                'L3_SO2_cloud_fraction'\n",
    "                ]\n",
    "\n",
    "df_train[meas_cols]"
   ]
  },
  {
   "attachments": {},
   "cell_type": "markdown",
   "metadata": {},
   "source": [
    "### Preprocessing\n",
    "- Dates to Datetime\n",
    "- Preprocessing steps to pipeline/function\n",
    "- Remove unnessecary columns\n",
    "\n",
    "- Detect Missing Values\n",
    "- Detect non-meaningful values\n",
    "- Detect Patterns and Correlations\n",
    "    - Within Satellite Data\n",
    "    - Within Weather Data\n",
    "    - Between Satellite and Weather Data\n",
    "    - Between Target Value and Satellite / Weather Data"
   ]
  },
  {
   "cell_type": "code",
   "execution_count": 31,
   "metadata": {},
   "outputs": [],
   "source": [
    "df_2= df_train[meas_cols]"
   ]
  },
  {
   "cell_type": "code",
   "execution_count": 33,
   "metadata": {},
   "outputs": [
    {
     "data": {
      "text/plain": [
       "(30557, 38)"
      ]
     },
     "execution_count": 33,
     "metadata": {},
     "output_type": "execute_result"
    }
   ],
   "source": [
    "df_2.shape"
   ]
  }
 ],
 "metadata": {
  "kernelspec": {
   "display_name": ".venv",
   "language": "python",
   "name": "python3"
  },
  "language_info": {
   "codemirror_mode": {
    "name": "ipython",
    "version": 3
   },
   "file_extension": ".py",
   "mimetype": "text/x-python",
   "name": "python",
   "nbconvert_exporter": "python",
   "pygments_lexer": "ipython3",
   "version": "3.9.8"
  },
  "orig_nbformat": 4,
  "vscode": {
   "interpreter": {
    "hash": "758abc07510a59f1f02caae2f27b0715c039604b2ed3b990e6b6c70f58974c95"
   }
  }
 },
 "nbformat": 4,
 "nbformat_minor": 2
}
