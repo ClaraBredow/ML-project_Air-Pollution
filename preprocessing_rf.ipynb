{
 "cells": [
  {
   "cell_type": "code",
   "execution_count": 12,
   "metadata": {},
   "outputs": [],
   "source": [
    "### Setup\n",
    "import pandas as pd\n",
    "import numpy as np\n",
    "import warnings\n",
    "import seaborn as sns\n",
    "warnings.filterwarnings('ignore')\n",
    "\n",
    "import pandas as pd\n",
    "import numpy as np\n",
    "import matplotlib.pyplot as plt\n",
    "\n",
    "from sklearn.ensemble import RandomForestClassifier\n",
    "from sklearn.tree import DecisionTreeClassifier, DecisionTreeRegressor\n",
    "from sklearn.preprocessing import StandardScaler, OneHotEncoder, OrdinalEncoder\n",
    "from sklearn.base import BaseEstimator, TransformerMixin\n",
    "from sklearn.model_selection import train_test_split\n",
    "from sklearn.model_selection import GridSearchCV, RandomizedSearchCV\n",
    "from sklearn.model_selection import cross_val_predict, cross_val_score, cross_validate\n",
    "from sklearn.metrics import roc_curve, confusion_matrix, accuracy_score, recall_score, precision_score, r2_score, mean_squared_error\n",
    "from sklearn.pipeline import Pipeline\n",
    "from sklearn.impute import SimpleImputer\n",
    "from sklearn.compose import ColumnTransformer\n",
    "\n",
    "from matplotlib.ticker import PercentFormatter\n",
    "plt.rcParams.update({ \"figure.figsize\" : (8, 5),\"axes.facecolor\" : \"white\", \"axes.edgecolor\":  \"black\"})\n",
    "plt.rcParams[\"figure.facecolor\"]= \"w\"\n",
    "pd.plotting.register_matplotlib_converters()\n",
    "pd.set_option('display.float_format', lambda x: '%.2f' % x) # change decimal places"
   ]
  },
  {
   "cell_type": "code",
   "execution_count": null,
   "metadata": {},
   "outputs": [],
   "source": [
    "### Get Data\n",
    "df_train = pd.read_csv('data/Train.csv')\n",
    "\n",
    "### Columns to keep\n",
    "### List of weather and satellite measurement_columns to keep\n",
    "col_keep = list(df_train.columns[0:14]) + ['L3_AER_AI_absorbing_aerosol_index', # AER\n",
    "                # CLOUD\n",
    "                'L3_CLOUD_cloud_base_height',\n",
    "                'L3_CLOUD_cloud_fraction',\n",
    "                'L3_CLOUD_cloud_optical_depth',\n",
    "                ## NO2\n",
    "                'L3_NO2_NO2_column_number_density',\n",
    "                'L3_NO2_absorbing_aerosol_index',\n",
    "                'L3_NO2_cloud_fraction',\n",
    "                ## CO\n",
    "                'L3_CO_CO_column_number_density',\n",
    "                'L3_CO_cloud_height',\n",
    "                ## HCHO\n",
    "                'L3_HCHO_tropospheric_HCHO_column_number_density',\n",
    "                'L3_HCHO_cloud_fraction',\n",
    "                ## O3\n",
    "                'L3_O3_O3_column_number_density',\n",
    "                'L3_O3_cloud_fraction',\n",
    "                ## SO2\n",
    "                'L3_SO2_SO2_column_number_density',\n",
    "                'L3_SO2_absorbing_aerosol_index',\n",
    "                'L3_SO2_cloud_fraction'\n",
    "                ]"
   ]
  },
  {
   "cell_type": "code",
   "execution_count": null,
   "metadata": {},
   "outputs": [],
   "source": [
    "###\n",
    "# plt.clf()\n",
    "# for col in col_keep[18:]:\n",
    "    \n",
    "#    plotname = \"./plots/hist_\" + col + \".png\"\n",
    "#    print (plotname)\n",
    "#    sns.histplot(data = df_train[col])\n",
    "#    plt.savefig(plotname)\n",
    "#    plt.clf()\n",
    "###\n",
    "    "
   ]
  },
  {
   "cell_type": "code",
   "execution_count": null,
   "metadata": {},
   "outputs": [],
   "source": [
    "### Define sets of columns for preprocessing\n",
    "### Columns to keep in X for train test split\n",
    "col_X = [col_keep[2]] + col_keep[8:len(col_keep)]\n",
    "\n",
    "### Columns with meaningless 0 values\n",
    "col_zero = [\"L3_NO2_absorbing_aerosol_index\", \"L3_CO_CO_column_number_density\", \"L3_O3_O3_column_number_density\", \"L3_O3_cloud_fraction\", \"L3_SO2_absorbing_aerosol_index\"]\n",
    "\n",
    "### Numeric columns without meaningless, inflated zeros and some of them NAN - treated together to remove NaNs\n",
    "col_nan = col_X[1:7] + col_keep[14:]\n",
    "\n",
    "### Categorical columns to Integer Values - Place_id\n",
    "col_cat = [\"Place_ID\"]\n",
    "\n",
    "### Columns for transforming - Windspeed - do this first, since no one else has done it in the pipelines\n",
    "col_wind = col_keep[12:14]"
   ]
  },
  {
   "cell_type": "code",
   "execution_count": null,
   "metadata": {},
   "outputs": [],
   "source": [
    "print (col_zero)\n",
    "print (col_nan)\n",
    "\n",
    "### Are all col_zeros in nan?\n",
    "def x_in_y(x, y):\n",
    "    len_x = len(x)\n",
    "    len_y = len(y)\n",
    "\n",
    "    k = 0\n",
    "    for i in x:\n",
    "        if i in y: \n",
    "            k += 1\n",
    "    return k, len_x\n",
    "\n",
    "### How many of col_zero are in col_nan\n",
    "print(x_in_y(col_zero, col_nan))\n",
    "\n",
    "### All values of col_zero are in col_nan\n",
    "print(len(col_nan))\n",
    "\n",
    "### Remove col_zero values from col_nan\n",
    "for i in col_zero:\n",
    "    col_nan.remove(i)\n",
    "\n",
    "### Have they changed?\n",
    "print(len(col_nan))\n",
    "print(x_in_y(col_zero, col_nan))\n"
   ]
  },
  {
   "cell_type": "code",
   "execution_count": null,
   "metadata": {},
   "outputs": [],
   "source": [
    "### Create a custom Transformer to include in the Pipeline for Transforming Wind_Speed\n",
    "class WindSpeedTransformer(BaseEstimator, TransformerMixin):\n",
    "    def __init__(self, add_combined_windspeed=True): # no *args or **kargs\n",
    "        self.add_combined_windspeed = add_combined_windspeed\n",
    "\n",
    "    def fit(self, X, y=None):\n",
    "        return self  # nothing else to do - since no values are stored, and therefore no fitting is applied to test data\n",
    "    \n",
    "    def transform(self, X):\n",
    "        combined_windspeed = np.sqrt((X[\"u_component_of_wind_10m_above_ground\"])**2 + (X[\"v_component_of_wind_10m_above_ground\"])**2)\n",
    "\n",
    "        if self.add_combined_windspeed:\n",
    "            return np.c_[combined_windspeed] # Return only new windspeed column casted to 2D array\n",
    "        else:\n",
    "            return X    "
   ]
  },
  {
   "cell_type": "code",
   "execution_count": null,
   "metadata": {},
   "outputs": [],
   "source": [
    "df_x = df_train[col_X]\n",
    "y = df_train.target\n",
    "\n",
    "X_train, X_test, y_train, y_test = train_test_split(df_x, y, test_size = 0.3, random_state = 666, shuffle = True)"
   ]
  },
  {
   "cell_type": "code",
   "execution_count": null,
   "metadata": {},
   "outputs": [],
   "source": [
    "### 3 Categories:\n",
    "### column with meaningless zeros and nans\n",
    "# col_zero\n",
    "# 1 replace nan with zero\n",
    "# 2 replace all zeros with median\n",
    "# 3 scale the data\n",
    "zero_pipeline = Pipeline([\n",
    "    (\"col_zero_nan_imputer\", SimpleImputer(strategy=\"constant\", fill_value=0)), # Replace NaNs with zero\n",
    "    (\"col_zero_zero_imputer\", SimpleImputer(strategy=\"median\", missing_values=0)) # Replace Zeros with Median\n",
    "    #, (\"col_zero_standard_scaler\", StandardScaler()) Scaling\n",
    "])\n",
    "\n",
    "### columns without meaningless zeros but nans, \n",
    "### can also include the features without meaningless zeros and without nans (weather measurements)\n",
    "# col_nan\n",
    "# 1 replace Nan with median\n",
    "# 2 scale the data\n",
    "nan_pipeline = Pipeline([\n",
    "    (\"col_nan_imputer\", SimpleImputer(strategy = \"median\")) # Replace NaN with median\n",
    "    #, (\"col_nan_standard_scaler\", StandardScaler()) Scaling\n",
    "])\n",
    "\n",
    "### Columns for transforming wind-speed\n",
    "# col_wind\n",
    "# 1 create new windspeed column from both np.sqrt((u)**2 + (v)**2)\n",
    "# 2 drop u and v?\n",
    "# 3 scale the data\n",
    "wind_pipeline = Pipeline([\n",
    "    (\"col_wind_windspeed_transformer\", WindSpeedTransformer()) # Apply Windspeedtransformation. Drops the original columns\n",
    "    #, (\"col_wind_standard_scaler\", StandardScaler()) Scaling \n",
    "])\n",
    "\n",
    "### columns with categorical variable but no nans\n",
    "# col_cat\n",
    "# 1 transform objects into integers for random forests\n",
    "cat_pipeline = Pipeline([\n",
    "    (\"col_cat_OrdinalEncoder\", OrdinalEncoder())\n",
    "])"
   ]
  },
  {
   "cell_type": "code",
   "execution_count": null,
   "metadata": {},
   "outputs": [],
   "source": [
    "### Construct Preprocessor Pipeline of single Pipes\n",
    "preprocessor = ColumnTransformer([\n",
    "    (\"col_zero_transformer\", zero_pipeline, col_zero),\n",
    "    (\"col_nan_transformer\", nan_pipeline, col_nan),\n",
    "    (\"wind_transformer\", wind_pipeline, col_wind),\n",
    "    (\"cat_transformer\", cat_pipeline, col_cat) # 1D Data Error happening here\n",
    "],  remainder = \"drop\") # To drop all columns but col_zero for testing purposes (standard)\n",
    "\n",
    "### Run the simple pipeline for testing with col_zero only\n",
    "pipe_dectree = Pipeline([\n",
    "    (\"preprocessor\", preprocessor),\n",
    "    (\"dec_tree_zero\", DecisionTreeRegressor(criterion = \"squared_error\"))\n",
    "])\n",
    "\n",
    "### Fit Y Data for single decision tree\n",
    "pipe_dectree.fit(X_train, y_train)"
   ]
  },
  {
   "cell_type": "code",
   "execution_count": 13,
   "metadata": {},
   "outputs": [
    {
     "data": {
      "text/plain": [
       "1.0"
      ]
     },
     "execution_count": 13,
     "metadata": {},
     "output_type": "execute_result"
    }
   ],
   "source": [
    "### Predict Data and Get Errors for singel model\n",
    "y_train_predict = pipe_dectree.predict(X_train)\n",
    "\n",
    "y_test_predict = pipe_dectree.predict(X_test)\n",
    "\n",
    "### R^2\n",
    "r2_score(y_train_predict, y_train)\n",
    "\n",
    "### Depth\n",
    "\n",
    "### Number of leaves\n"
   ]
  }
 ],
 "metadata": {
  "kernelspec": {
   "display_name": ".venv",
   "language": "python",
   "name": "python3"
  },
  "language_info": {
   "codemirror_mode": {
    "name": "ipython",
    "version": 3
   },
   "file_extension": ".py",
   "mimetype": "text/x-python",
   "name": "python",
   "nbconvert_exporter": "python",
   "pygments_lexer": "ipython3",
   "version": "3.9.8"
  },
  "orig_nbformat": 4,
  "vscode": {
   "interpreter": {
    "hash": "758abc07510a59f1f02caae2f27b0715c039604b2ed3b990e6b6c70f58974c95"
   }
  }
 },
 "nbformat": 4,
 "nbformat_minor": 2
}
